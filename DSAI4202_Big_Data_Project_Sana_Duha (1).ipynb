{
  "cells": [
    {
      "cell_type": "markdown",
      "metadata": {
        "id": "Q5hshYB_08Cc"
      },
      "source": [
        "# **Analysis of Big data**\n"
      ]
    },
    {
      "cell_type": "markdown",
      "metadata": {
        "id": "WR1POcaZMkQ1"
      },
      "source": []
    },
    {
      "cell_type": "markdown",
      "metadata": {
        "id": "Uv_4Tvh7-o7O"
      },
      "source": [
        "# Setting up PySpark"
      ]
    },
    {
      "cell_type": "code",
      "execution_count": 1,
      "metadata": {
        "id": "Hm8QQSvq97fd"
      },
      "outputs": [],
      "source": [
        "!apt-get install openjdk-8-jdk-headless -qq > /dev/null\n",
        "!wget -q https://dlcdn.apache.org/spark/spark-3.5.5/spark-3.5.5-bin-hadoop3.tgz\n",
        "!tar xf spark-3.5.5-bin-hadoop3.tgz\n",
        "!pip install -q findspark"
      ]
    },
    {
      "cell_type": "code",
      "execution_count": 2,
      "metadata": {
        "id": "a28UKj9Z-aEc"
      },
      "outputs": [],
      "source": [
        "import os\n",
        "os.environ[\"JAVA_HOME\"] = \"/usr/lib/jvm/java-8-openjdk-amd64\"\n",
        "#os.environ[\"SPARK_HOME\"] = \"/content/spark-3.2.1-bin-hadoop3.2\"\n",
        "os.environ[\"SPARK_HOME\"] = \"/content/spark-3.5.1-bin-hadoop3\""
      ]
    },
    {
      "cell_type": "code",
      "source": [
        "os.environ[\"SPARK_HOME\"] = \"/content/spark-3.5.5-bin-hadoop3\"\n"
      ],
      "metadata": {
        "id": "pqQsnvH-v_nE"
      },
      "execution_count": 4,
      "outputs": []
    },
    {
      "cell_type": "code",
      "source": [
        "import findspark\n",
        "findspark.init()\n"
      ],
      "metadata": {
        "id": "JKOYjgbuwDG1"
      },
      "execution_count": 5,
      "outputs": []
    },
    {
      "cell_type": "code",
      "execution_count": 6,
      "metadata": {
        "id": "SNaBZRBU-d6y"
      },
      "outputs": [],
      "source": [
        "\n",
        "from pyspark.sql import SparkSession\n",
        "spark = SparkSession.builder.master(\"local[*]\").getOrCreate()"
      ]
    },
    {
      "cell_type": "markdown",
      "metadata": {
        "id": "y4jABpAA_BDP"
      },
      "source": [
        "# Import Packages"
      ]
    },
    {
      "cell_type": "code",
      "execution_count": 7,
      "metadata": {
        "id": "otG68VBO_AfF"
      },
      "outputs": [],
      "source": [
        "import pandas as pd\n",
        "import numpy as np\n",
        "import matplotlib.pyplot as plt\n",
        "%matplotlib inline\n",
        "import seaborn as sns\n",
        "\n",
        "import warnings\n",
        "warnings.filterwarnings(\"ignore\")\n",
        "warnings.filterwarnings(\"ignore\", category=DeprecationWarning)\n",
        "\n",
        "\n",
        "from pyspark.sql.types import DoubleType, IntegerType, StringType\n",
        "from pyspark.sql.functions import isnull, when, count, isnan, col, lit, udf, dayofweek, date_format, month, countDistinct\n",
        "from pyspark.sql import functions as F\n",
        "from pyspark.ml import Pipeline\n",
        "from pyspark.ml.stat import ChiSquareTest, Correlation\n",
        "from pyspark.ml.feature import VectorAssembler, StringIndexer, OneHotEncoder, UnivariateFeatureSelector\n",
        "from pyspark.sql.functions import col, when\n",
        "from pyspark.ml.tuning import ParamGridBuilder, CrossValidator\n",
        "from pyspark.ml.classification import LogisticRegression, DecisionTreeClassifier, RandomForestClassifier, GBTClassifier\n",
        "from pyspark.ml.evaluation import BinaryClassificationEvaluator, MulticlassClassificationEvaluator\n",
        "from pyspark.mllib.evaluation import BinaryClassificationMetrics, MulticlassMetrics"
      ]
    },
    {
      "cell_type": "markdown",
      "metadata": {
        "id": "qMPjP6Ys_I6p"
      },
      "source": [
        "# Loading the Data\n",
        "\n",
        "We are analyzing the USA Airline and Cancellation dataset from Kaggle (https://www.kaggle.com/datasets/yuanyuwendymu/airline-delay-and-cancellation-data-2009-2018/code?resource=download&select=2018.csv). The dataset includes information (28 columns; both categorical and numerical) on 7.2 million flights taken across the United States during the year 2018."
      ]
    },
    {
      "cell_type": "code",
      "execution_count": 8,
      "metadata": {
        "id": "qZiEaPD8_IPz",
        "colab": {
          "base_uri": "https://localhost:8080/"
        },
        "outputId": "b7bd814d-0560-4f70-a062-3e8e0d655001"
      },
      "outputs": [
        {
          "output_type": "stream",
          "name": "stdout",
          "text": [
            "root\n",
            " |-- InvoiceNo: string (nullable = true)\n",
            " |-- StockCode: string (nullable = true)\n",
            " |-- Description: string (nullable = true)\n",
            " |-- Quantity: integer (nullable = true)\n",
            " |-- InvoiceDate: timestamp (nullable = true)\n",
            " |-- UnitPrice: double (nullable = true)\n",
            " |-- CustomerID: double (nullable = true)\n",
            " |-- Country: string (nullable = true)\n",
            "\n",
            "+---------+---------+--------------------+--------+-------------------+---------+----------+--------------+\n",
            "|InvoiceNo|StockCode|         Description|Quantity|        InvoiceDate|UnitPrice|CustomerID|       Country|\n",
            "+---------+---------+--------------------+--------+-------------------+---------+----------+--------------+\n",
            "|   536365|   85123A|WHITE HANGING HEA...|       6|2010-12-01 08:26:00|     2.55|   17850.0|United Kingdom|\n",
            "|   536365|    71053| WHITE METAL LANTERN|       6|2010-12-01 08:26:00|     3.39|   17850.0|United Kingdom|\n",
            "|   536365|   84406B|CREAM CUPID HEART...|       8|2010-12-01 08:26:00|     2.75|   17850.0|United Kingdom|\n",
            "|   536365|   84029G|KNITTED UNION FLA...|       6|2010-12-01 08:26:00|     3.39|   17850.0|United Kingdom|\n",
            "|   536365|   84029E|RED WOOLLY HOTTIE...|       6|2010-12-01 08:26:00|     3.39|   17850.0|United Kingdom|\n",
            "+---------+---------+--------------------+--------+-------------------+---------+----------+--------------+\n",
            "only showing top 5 rows\n",
            "\n"
          ]
        }
      ],
      "source": [
        "# Install required package to read Excel\n",
        "!pip install -q openpyxl\n",
        "\n",
        "# Step 1: Convert Excel to CSV using pandas\n",
        "import pandas as pd\n",
        "\n",
        "excel_df = pd.read_excel('Online Retail.xlsx')  # or whatever the filename is after upload\n",
        "excel_df.to_csv('online_retail.csv', index=False)\n",
        "\n",
        "# Step 2: Load the CSV into Spark\n",
        "df = spark.read.csv('online_retail.csv', header=True, inferSchema=True)\n",
        "\n",
        "# Step 3: Check data\n",
        "df.printSchema()\n",
        "df.show(5)\n"
      ]
    },
    {
      "cell_type": "code",
      "execution_count": 9,
      "metadata": {
        "colab": {
          "base_uri": "https://localhost:8080/",
          "height": 34
        },
        "id": "D9o6proeCmj-",
        "outputId": "92bd0954-9d3f-40cb-e895-ea0a1294f64c"
      },
      "outputs": [
        {
          "output_type": "display_data",
          "data": {
            "text/plain": [
              "DataFrame[InvoiceNo: string, StockCode: string, Description: string, Quantity: int, InvoiceDate: timestamp, UnitPrice: double, CustomerID: double, Country: string]"
            ]
          },
          "metadata": {}
        }
      ],
      "source": [
        "display(df)"
      ]
    },
    {
      "cell_type": "code",
      "execution_count": 10,
      "metadata": {
        "colab": {
          "base_uri": "https://localhost:8080/",
          "height": 206
        },
        "id": "jcVJQeRFDuWD",
        "outputId": "2c6ce55c-86b7-4ddf-ce21-fa27614f6e16"
      },
      "outputs": [
        {
          "output_type": "display_data",
          "data": {
            "text/plain": [
              "  summary           InvoiceNo           StockCode  \\\n",
              "0   count              541909              541909   \n",
              "1    mean    559965.752026781  27623.240210938104   \n",
              "2  stddev  13428.417280803813  16799.737628427752   \n",
              "3     min              536365               10002   \n",
              "4     max             C581569                   m   \n",
              "\n",
              "                      Description            Quantity          UnitPrice  \\\n",
              "0                          540455              541909             541909   \n",
              "1                         20713.0    9.55224954743324   4.61111362608298   \n",
              "2                            None  218.08115785023477  96.75985306117967   \n",
              "3   4 PURPLE FLOCK DINNER CANDLES              -80995          -11062.06   \n",
              "4               wrongly sold sets               80995            38970.0   \n",
              "\n",
              "           CustomerID      Country  \n",
              "0              406829       541909  \n",
              "1  15287.690570239585         None  \n",
              "2  1713.6003033215982         None  \n",
              "3             12346.0    Australia  \n",
              "4             18287.0  Unspecified  "
            ],
            "text/html": [
              "\n",
              "  <div id=\"df-ad14fee1-7fd1-4987-81de-42227c7abcb2\" class=\"colab-df-container\">\n",
              "    <div>\n",
              "<style scoped>\n",
              "    .dataframe tbody tr th:only-of-type {\n",
              "        vertical-align: middle;\n",
              "    }\n",
              "\n",
              "    .dataframe tbody tr th {\n",
              "        vertical-align: top;\n",
              "    }\n",
              "\n",
              "    .dataframe thead th {\n",
              "        text-align: right;\n",
              "    }\n",
              "</style>\n",
              "<table border=\"1\" class=\"dataframe\">\n",
              "  <thead>\n",
              "    <tr style=\"text-align: right;\">\n",
              "      <th></th>\n",
              "      <th>summary</th>\n",
              "      <th>InvoiceNo</th>\n",
              "      <th>StockCode</th>\n",
              "      <th>Description</th>\n",
              "      <th>Quantity</th>\n",
              "      <th>UnitPrice</th>\n",
              "      <th>CustomerID</th>\n",
              "      <th>Country</th>\n",
              "    </tr>\n",
              "  </thead>\n",
              "  <tbody>\n",
              "    <tr>\n",
              "      <th>0</th>\n",
              "      <td>count</td>\n",
              "      <td>541909</td>\n",
              "      <td>541909</td>\n",
              "      <td>540455</td>\n",
              "      <td>541909</td>\n",
              "      <td>541909</td>\n",
              "      <td>406829</td>\n",
              "      <td>541909</td>\n",
              "    </tr>\n",
              "    <tr>\n",
              "      <th>1</th>\n",
              "      <td>mean</td>\n",
              "      <td>559965.752026781</td>\n",
              "      <td>27623.240210938104</td>\n",
              "      <td>20713.0</td>\n",
              "      <td>9.55224954743324</td>\n",
              "      <td>4.61111362608298</td>\n",
              "      <td>15287.690570239585</td>\n",
              "      <td>None</td>\n",
              "    </tr>\n",
              "    <tr>\n",
              "      <th>2</th>\n",
              "      <td>stddev</td>\n",
              "      <td>13428.417280803813</td>\n",
              "      <td>16799.737628427752</td>\n",
              "      <td>None</td>\n",
              "      <td>218.08115785023477</td>\n",
              "      <td>96.75985306117967</td>\n",
              "      <td>1713.6003033215982</td>\n",
              "      <td>None</td>\n",
              "    </tr>\n",
              "    <tr>\n",
              "      <th>3</th>\n",
              "      <td>min</td>\n",
              "      <td>536365</td>\n",
              "      <td>10002</td>\n",
              "      <td>4 PURPLE FLOCK DINNER CANDLES</td>\n",
              "      <td>-80995</td>\n",
              "      <td>-11062.06</td>\n",
              "      <td>12346.0</td>\n",
              "      <td>Australia</td>\n",
              "    </tr>\n",
              "    <tr>\n",
              "      <th>4</th>\n",
              "      <td>max</td>\n",
              "      <td>C581569</td>\n",
              "      <td>m</td>\n",
              "      <td>wrongly sold sets</td>\n",
              "      <td>80995</td>\n",
              "      <td>38970.0</td>\n",
              "      <td>18287.0</td>\n",
              "      <td>Unspecified</td>\n",
              "    </tr>\n",
              "  </tbody>\n",
              "</table>\n",
              "</div>\n",
              "    <div class=\"colab-df-buttons\">\n",
              "\n",
              "  <div class=\"colab-df-container\">\n",
              "    <button class=\"colab-df-convert\" onclick=\"convertToInteractive('df-ad14fee1-7fd1-4987-81de-42227c7abcb2')\"\n",
              "            title=\"Convert this dataframe to an interactive table.\"\n",
              "            style=\"display:none;\">\n",
              "\n",
              "  <svg xmlns=\"http://www.w3.org/2000/svg\" height=\"24px\" viewBox=\"0 -960 960 960\">\n",
              "    <path d=\"M120-120v-720h720v720H120Zm60-500h600v-160H180v160Zm220 220h160v-160H400v160Zm0 220h160v-160H400v160ZM180-400h160v-160H180v160Zm440 0h160v-160H620v160ZM180-180h160v-160H180v160Zm440 0h160v-160H620v160Z\"/>\n",
              "  </svg>\n",
              "    </button>\n",
              "\n",
              "  <style>\n",
              "    .colab-df-container {\n",
              "      display:flex;\n",
              "      gap: 12px;\n",
              "    }\n",
              "\n",
              "    .colab-df-convert {\n",
              "      background-color: #E8F0FE;\n",
              "      border: none;\n",
              "      border-radius: 50%;\n",
              "      cursor: pointer;\n",
              "      display: none;\n",
              "      fill: #1967D2;\n",
              "      height: 32px;\n",
              "      padding: 0 0 0 0;\n",
              "      width: 32px;\n",
              "    }\n",
              "\n",
              "    .colab-df-convert:hover {\n",
              "      background-color: #E2EBFA;\n",
              "      box-shadow: 0px 1px 2px rgba(60, 64, 67, 0.3), 0px 1px 3px 1px rgba(60, 64, 67, 0.15);\n",
              "      fill: #174EA6;\n",
              "    }\n",
              "\n",
              "    .colab-df-buttons div {\n",
              "      margin-bottom: 4px;\n",
              "    }\n",
              "\n",
              "    [theme=dark] .colab-df-convert {\n",
              "      background-color: #3B4455;\n",
              "      fill: #D2E3FC;\n",
              "    }\n",
              "\n",
              "    [theme=dark] .colab-df-convert:hover {\n",
              "      background-color: #434B5C;\n",
              "      box-shadow: 0px 1px 3px 1px rgba(0, 0, 0, 0.15);\n",
              "      filter: drop-shadow(0px 1px 2px rgba(0, 0, 0, 0.3));\n",
              "      fill: #FFFFFF;\n",
              "    }\n",
              "  </style>\n",
              "\n",
              "    <script>\n",
              "      const buttonEl =\n",
              "        document.querySelector('#df-ad14fee1-7fd1-4987-81de-42227c7abcb2 button.colab-df-convert');\n",
              "      buttonEl.style.display =\n",
              "        google.colab.kernel.accessAllowed ? 'block' : 'none';\n",
              "\n",
              "      async function convertToInteractive(key) {\n",
              "        const element = document.querySelector('#df-ad14fee1-7fd1-4987-81de-42227c7abcb2');\n",
              "        const dataTable =\n",
              "          await google.colab.kernel.invokeFunction('convertToInteractive',\n",
              "                                                    [key], {});\n",
              "        if (!dataTable) return;\n",
              "\n",
              "        const docLinkHtml = 'Like what you see? Visit the ' +\n",
              "          '<a target=\"_blank\" href=https://colab.research.google.com/notebooks/data_table.ipynb>data table notebook</a>'\n",
              "          + ' to learn more about interactive tables.';\n",
              "        element.innerHTML = '';\n",
              "        dataTable['output_type'] = 'display_data';\n",
              "        await google.colab.output.renderOutput(dataTable, element);\n",
              "        const docLink = document.createElement('div');\n",
              "        docLink.innerHTML = docLinkHtml;\n",
              "        element.appendChild(docLink);\n",
              "      }\n",
              "    </script>\n",
              "  </div>\n",
              "\n",
              "\n",
              "<div id=\"df-17019c7f-bcf3-432f-b987-f5a969e5395c\">\n",
              "  <button class=\"colab-df-quickchart\" onclick=\"quickchart('df-17019c7f-bcf3-432f-b987-f5a969e5395c')\"\n",
              "            title=\"Suggest charts\"\n",
              "            style=\"display:none;\">\n",
              "\n",
              "<svg xmlns=\"http://www.w3.org/2000/svg\" height=\"24px\"viewBox=\"0 0 24 24\"\n",
              "     width=\"24px\">\n",
              "    <g>\n",
              "        <path d=\"M19 3H5c-1.1 0-2 .9-2 2v14c0 1.1.9 2 2 2h14c1.1 0 2-.9 2-2V5c0-1.1-.9-2-2-2zM9 17H7v-7h2v7zm4 0h-2V7h2v10zm4 0h-2v-4h2v4z\"/>\n",
              "    </g>\n",
              "</svg>\n",
              "  </button>\n",
              "\n",
              "<style>\n",
              "  .colab-df-quickchart {\n",
              "      --bg-color: #E8F0FE;\n",
              "      --fill-color: #1967D2;\n",
              "      --hover-bg-color: #E2EBFA;\n",
              "      --hover-fill-color: #174EA6;\n",
              "      --disabled-fill-color: #AAA;\n",
              "      --disabled-bg-color: #DDD;\n",
              "  }\n",
              "\n",
              "  [theme=dark] .colab-df-quickchart {\n",
              "      --bg-color: #3B4455;\n",
              "      --fill-color: #D2E3FC;\n",
              "      --hover-bg-color: #434B5C;\n",
              "      --hover-fill-color: #FFFFFF;\n",
              "      --disabled-bg-color: #3B4455;\n",
              "      --disabled-fill-color: #666;\n",
              "  }\n",
              "\n",
              "  .colab-df-quickchart {\n",
              "    background-color: var(--bg-color);\n",
              "    border: none;\n",
              "    border-radius: 50%;\n",
              "    cursor: pointer;\n",
              "    display: none;\n",
              "    fill: var(--fill-color);\n",
              "    height: 32px;\n",
              "    padding: 0;\n",
              "    width: 32px;\n",
              "  }\n",
              "\n",
              "  .colab-df-quickchart:hover {\n",
              "    background-color: var(--hover-bg-color);\n",
              "    box-shadow: 0 1px 2px rgba(60, 64, 67, 0.3), 0 1px 3px 1px rgba(60, 64, 67, 0.15);\n",
              "    fill: var(--button-hover-fill-color);\n",
              "  }\n",
              "\n",
              "  .colab-df-quickchart-complete:disabled,\n",
              "  .colab-df-quickchart-complete:disabled:hover {\n",
              "    background-color: var(--disabled-bg-color);\n",
              "    fill: var(--disabled-fill-color);\n",
              "    box-shadow: none;\n",
              "  }\n",
              "\n",
              "  .colab-df-spinner {\n",
              "    border: 2px solid var(--fill-color);\n",
              "    border-color: transparent;\n",
              "    border-bottom-color: var(--fill-color);\n",
              "    animation:\n",
              "      spin 1s steps(1) infinite;\n",
              "  }\n",
              "\n",
              "  @keyframes spin {\n",
              "    0% {\n",
              "      border-color: transparent;\n",
              "      border-bottom-color: var(--fill-color);\n",
              "      border-left-color: var(--fill-color);\n",
              "    }\n",
              "    20% {\n",
              "      border-color: transparent;\n",
              "      border-left-color: var(--fill-color);\n",
              "      border-top-color: var(--fill-color);\n",
              "    }\n",
              "    30% {\n",
              "      border-color: transparent;\n",
              "      border-left-color: var(--fill-color);\n",
              "      border-top-color: var(--fill-color);\n",
              "      border-right-color: var(--fill-color);\n",
              "    }\n",
              "    40% {\n",
              "      border-color: transparent;\n",
              "      border-right-color: var(--fill-color);\n",
              "      border-top-color: var(--fill-color);\n",
              "    }\n",
              "    60% {\n",
              "      border-color: transparent;\n",
              "      border-right-color: var(--fill-color);\n",
              "    }\n",
              "    80% {\n",
              "      border-color: transparent;\n",
              "      border-right-color: var(--fill-color);\n",
              "      border-bottom-color: var(--fill-color);\n",
              "    }\n",
              "    90% {\n",
              "      border-color: transparent;\n",
              "      border-bottom-color: var(--fill-color);\n",
              "    }\n",
              "  }\n",
              "</style>\n",
              "\n",
              "  <script>\n",
              "    async function quickchart(key) {\n",
              "      const quickchartButtonEl =\n",
              "        document.querySelector('#' + key + ' button');\n",
              "      quickchartButtonEl.disabled = true;  // To prevent multiple clicks.\n",
              "      quickchartButtonEl.classList.add('colab-df-spinner');\n",
              "      try {\n",
              "        const charts = await google.colab.kernel.invokeFunction(\n",
              "            'suggestCharts', [key], {});\n",
              "      } catch (error) {\n",
              "        console.error('Error during call to suggestCharts:', error);\n",
              "      }\n",
              "      quickchartButtonEl.classList.remove('colab-df-spinner');\n",
              "      quickchartButtonEl.classList.add('colab-df-quickchart-complete');\n",
              "    }\n",
              "    (() => {\n",
              "      let quickchartButtonEl =\n",
              "        document.querySelector('#df-17019c7f-bcf3-432f-b987-f5a969e5395c button');\n",
              "      quickchartButtonEl.style.display =\n",
              "        google.colab.kernel.accessAllowed ? 'block' : 'none';\n",
              "    })();\n",
              "  </script>\n",
              "</div>\n",
              "\n",
              "    </div>\n",
              "  </div>\n"
            ],
            "application/vnd.google.colaboratory.intrinsic+json": {
              "type": "dataframe",
              "summary": "{\n  \"name\": \"display(df\",\n  \"rows\": 5,\n  \"fields\": [\n    {\n      \"column\": \"summary\",\n      \"properties\": {\n        \"dtype\": \"string\",\n        \"num_unique_values\": 5,\n        \"samples\": [\n          \"mean\",\n          \"max\",\n          \"stddev\"\n        ],\n        \"semantic_type\": \"\",\n        \"description\": \"\"\n      }\n    },\n    {\n      \"column\": \"InvoiceNo\",\n      \"properties\": {\n        \"dtype\": \"string\",\n        \"num_unique_values\": 5,\n        \"samples\": [\n          \"559965.752026781\",\n          \"C581569\",\n          \"13428.417280803813\"\n        ],\n        \"semantic_type\": \"\",\n        \"description\": \"\"\n      }\n    },\n    {\n      \"column\": \"StockCode\",\n      \"properties\": {\n        \"dtype\": \"string\",\n        \"num_unique_values\": 5,\n        \"samples\": [\n          \"27623.240210938104\",\n          \"m\",\n          \"16799.737628427752\"\n        ],\n        \"semantic_type\": \"\",\n        \"description\": \"\"\n      }\n    },\n    {\n      \"column\": \"Description\",\n      \"properties\": {\n        \"dtype\": \"string\",\n        \"num_unique_values\": 4,\n        \"samples\": [\n          \"20713.0\",\n          \"wrongly sold sets\",\n          \"540455\"\n        ],\n        \"semantic_type\": \"\",\n        \"description\": \"\"\n      }\n    },\n    {\n      \"column\": \"Quantity\",\n      \"properties\": {\n        \"dtype\": \"string\",\n        \"num_unique_values\": 5,\n        \"samples\": [\n          \"9.55224954743324\",\n          \"80995\",\n          \"218.08115785023477\"\n        ],\n        \"semantic_type\": \"\",\n        \"description\": \"\"\n      }\n    },\n    {\n      \"column\": \"UnitPrice\",\n      \"properties\": {\n        \"dtype\": \"string\",\n        \"num_unique_values\": 5,\n        \"samples\": [\n          \"4.61111362608298\",\n          \"38970.0\",\n          \"96.75985306117967\"\n        ],\n        \"semantic_type\": \"\",\n        \"description\": \"\"\n      }\n    },\n    {\n      \"column\": \"CustomerID\",\n      \"properties\": {\n        \"dtype\": \"string\",\n        \"num_unique_values\": 5,\n        \"samples\": [\n          \"15287.690570239585\",\n          \"18287.0\",\n          \"1713.6003033215982\"\n        ],\n        \"semantic_type\": \"\",\n        \"description\": \"\"\n      }\n    },\n    {\n      \"column\": \"Country\",\n      \"properties\": {\n        \"dtype\": \"string\",\n        \"num_unique_values\": 3,\n        \"samples\": [\n          \"541909\",\n          \"Australia\",\n          \"Unspecified\"\n        ],\n        \"semantic_type\": \"\",\n        \"description\": \"\"\n      }\n    }\n  ]\n}"
            }
          },
          "metadata": {}
        }
      ],
      "source": [
        "display(df.describe().toPandas())"
      ]
    },
    {
      "cell_type": "code",
      "source": [
        "from pyspark.sql.functions import col\n",
        "\n",
        "# 1. Drop rows where CustomerID or Description is null\n",
        "df = df.dropna(subset=[\"CustomerID\", \"Description\"])\n",
        "\n",
        "# 2. Remove cancelled transactions (InvoiceNo starts with 'C')\n",
        "df = df.filter(~col(\"InvoiceNo\").startswith(\"C\"))\n",
        "\n",
        "# 3. Remove rows with negative Quantity or UnitPrice\n",
        "df = df.filter((col(\"Quantity\") > 0) & (col(\"UnitPrice\") > 0))\n",
        "\n",
        "# 4. Create TotalPrice column\n",
        "df = df.withColumn(\"TotalPrice\", col(\"Quantity\") * col(\"UnitPrice\"))\n"
      ],
      "metadata": {
        "id": "vutDmNiZyX_e"
      },
      "execution_count": 11,
      "outputs": []
    },
    {
      "cell_type": "code",
      "source": [
        "display(df.describe().toPandas())"
      ],
      "metadata": {
        "colab": {
          "base_uri": "https://localhost:8080/",
          "height": 206
        },
        "id": "U2nJnhbpyYkd",
        "outputId": "4a17342e-04e7-4e1b-ee3c-7825b21b8871"
      },
      "execution_count": 12,
      "outputs": [
        {
          "output_type": "display_data",
          "data": {
            "text/plain": [
              "  summary           InvoiceNo           StockCode  \\\n",
              "0   count              397884              397884   \n",
              "1    mean   560616.9344507444  27420.411850034085   \n",
              "2  stddev  13106.117772962025  16391.025997723667   \n",
              "3     min              536365               10002   \n",
              "4     max              581587                POST   \n",
              "\n",
              "                        Description            Quantity           UnitPrice  \\\n",
              "0                            397884              397884              397884   \n",
              "1                              None  12.988237777844798  3.1164877552256525   \n",
              "2                              None  179.33177496319982   22.09787663086808   \n",
              "3     4 PURPLE FLOCK DINNER CANDLES                   1               0.001   \n",
              "4  ZINC WIRE SWEETHEART LETTER TRAY               80995             8142.75   \n",
              "\n",
              "           CustomerID      Country          TotalPrice  \n",
              "0              397884       397884              397884  \n",
              "1  15294.423452564064         None  22.396999889417703  \n",
              "2  1713.1415604398514         None   309.0710414140181  \n",
              "3             12346.0    Australia               0.001  \n",
              "4             18287.0  Unspecified            168469.6  "
            ],
            "text/html": [
              "\n",
              "  <div id=\"df-28efa4b3-dab2-4850-9c6d-09ca3e9300d2\" class=\"colab-df-container\">\n",
              "    <div>\n",
              "<style scoped>\n",
              "    .dataframe tbody tr th:only-of-type {\n",
              "        vertical-align: middle;\n",
              "    }\n",
              "\n",
              "    .dataframe tbody tr th {\n",
              "        vertical-align: top;\n",
              "    }\n",
              "\n",
              "    .dataframe thead th {\n",
              "        text-align: right;\n",
              "    }\n",
              "</style>\n",
              "<table border=\"1\" class=\"dataframe\">\n",
              "  <thead>\n",
              "    <tr style=\"text-align: right;\">\n",
              "      <th></th>\n",
              "      <th>summary</th>\n",
              "      <th>InvoiceNo</th>\n",
              "      <th>StockCode</th>\n",
              "      <th>Description</th>\n",
              "      <th>Quantity</th>\n",
              "      <th>UnitPrice</th>\n",
              "      <th>CustomerID</th>\n",
              "      <th>Country</th>\n",
              "      <th>TotalPrice</th>\n",
              "    </tr>\n",
              "  </thead>\n",
              "  <tbody>\n",
              "    <tr>\n",
              "      <th>0</th>\n",
              "      <td>count</td>\n",
              "      <td>397884</td>\n",
              "      <td>397884</td>\n",
              "      <td>397884</td>\n",
              "      <td>397884</td>\n",
              "      <td>397884</td>\n",
              "      <td>397884</td>\n",
              "      <td>397884</td>\n",
              "      <td>397884</td>\n",
              "    </tr>\n",
              "    <tr>\n",
              "      <th>1</th>\n",
              "      <td>mean</td>\n",
              "      <td>560616.9344507444</td>\n",
              "      <td>27420.411850034085</td>\n",
              "      <td>None</td>\n",
              "      <td>12.988237777844798</td>\n",
              "      <td>3.1164877552256525</td>\n",
              "      <td>15294.423452564064</td>\n",
              "      <td>None</td>\n",
              "      <td>22.396999889417703</td>\n",
              "    </tr>\n",
              "    <tr>\n",
              "      <th>2</th>\n",
              "      <td>stddev</td>\n",
              "      <td>13106.117772962025</td>\n",
              "      <td>16391.025997723667</td>\n",
              "      <td>None</td>\n",
              "      <td>179.33177496319982</td>\n",
              "      <td>22.09787663086808</td>\n",
              "      <td>1713.1415604398514</td>\n",
              "      <td>None</td>\n",
              "      <td>309.0710414140181</td>\n",
              "    </tr>\n",
              "    <tr>\n",
              "      <th>3</th>\n",
              "      <td>min</td>\n",
              "      <td>536365</td>\n",
              "      <td>10002</td>\n",
              "      <td>4 PURPLE FLOCK DINNER CANDLES</td>\n",
              "      <td>1</td>\n",
              "      <td>0.001</td>\n",
              "      <td>12346.0</td>\n",
              "      <td>Australia</td>\n",
              "      <td>0.001</td>\n",
              "    </tr>\n",
              "    <tr>\n",
              "      <th>4</th>\n",
              "      <td>max</td>\n",
              "      <td>581587</td>\n",
              "      <td>POST</td>\n",
              "      <td>ZINC WIRE SWEETHEART LETTER TRAY</td>\n",
              "      <td>80995</td>\n",
              "      <td>8142.75</td>\n",
              "      <td>18287.0</td>\n",
              "      <td>Unspecified</td>\n",
              "      <td>168469.6</td>\n",
              "    </tr>\n",
              "  </tbody>\n",
              "</table>\n",
              "</div>\n",
              "    <div class=\"colab-df-buttons\">\n",
              "\n",
              "  <div class=\"colab-df-container\">\n",
              "    <button class=\"colab-df-convert\" onclick=\"convertToInteractive('df-28efa4b3-dab2-4850-9c6d-09ca3e9300d2')\"\n",
              "            title=\"Convert this dataframe to an interactive table.\"\n",
              "            style=\"display:none;\">\n",
              "\n",
              "  <svg xmlns=\"http://www.w3.org/2000/svg\" height=\"24px\" viewBox=\"0 -960 960 960\">\n",
              "    <path d=\"M120-120v-720h720v720H120Zm60-500h600v-160H180v160Zm220 220h160v-160H400v160Zm0 220h160v-160H400v160ZM180-400h160v-160H180v160Zm440 0h160v-160H620v160ZM180-180h160v-160H180v160Zm440 0h160v-160H620v160Z\"/>\n",
              "  </svg>\n",
              "    </button>\n",
              "\n",
              "  <style>\n",
              "    .colab-df-container {\n",
              "      display:flex;\n",
              "      gap: 12px;\n",
              "    }\n",
              "\n",
              "    .colab-df-convert {\n",
              "      background-color: #E8F0FE;\n",
              "      border: none;\n",
              "      border-radius: 50%;\n",
              "      cursor: pointer;\n",
              "      display: none;\n",
              "      fill: #1967D2;\n",
              "      height: 32px;\n",
              "      padding: 0 0 0 0;\n",
              "      width: 32px;\n",
              "    }\n",
              "\n",
              "    .colab-df-convert:hover {\n",
              "      background-color: #E2EBFA;\n",
              "      box-shadow: 0px 1px 2px rgba(60, 64, 67, 0.3), 0px 1px 3px 1px rgba(60, 64, 67, 0.15);\n",
              "      fill: #174EA6;\n",
              "    }\n",
              "\n",
              "    .colab-df-buttons div {\n",
              "      margin-bottom: 4px;\n",
              "    }\n",
              "\n",
              "    [theme=dark] .colab-df-convert {\n",
              "      background-color: #3B4455;\n",
              "      fill: #D2E3FC;\n",
              "    }\n",
              "\n",
              "    [theme=dark] .colab-df-convert:hover {\n",
              "      background-color: #434B5C;\n",
              "      box-shadow: 0px 1px 3px 1px rgba(0, 0, 0, 0.15);\n",
              "      filter: drop-shadow(0px 1px 2px rgba(0, 0, 0, 0.3));\n",
              "      fill: #FFFFFF;\n",
              "    }\n",
              "  </style>\n",
              "\n",
              "    <script>\n",
              "      const buttonEl =\n",
              "        document.querySelector('#df-28efa4b3-dab2-4850-9c6d-09ca3e9300d2 button.colab-df-convert');\n",
              "      buttonEl.style.display =\n",
              "        google.colab.kernel.accessAllowed ? 'block' : 'none';\n",
              "\n",
              "      async function convertToInteractive(key) {\n",
              "        const element = document.querySelector('#df-28efa4b3-dab2-4850-9c6d-09ca3e9300d2');\n",
              "        const dataTable =\n",
              "          await google.colab.kernel.invokeFunction('convertToInteractive',\n",
              "                                                    [key], {});\n",
              "        if (!dataTable) return;\n",
              "\n",
              "        const docLinkHtml = 'Like what you see? Visit the ' +\n",
              "          '<a target=\"_blank\" href=https://colab.research.google.com/notebooks/data_table.ipynb>data table notebook</a>'\n",
              "          + ' to learn more about interactive tables.';\n",
              "        element.innerHTML = '';\n",
              "        dataTable['output_type'] = 'display_data';\n",
              "        await google.colab.output.renderOutput(dataTable, element);\n",
              "        const docLink = document.createElement('div');\n",
              "        docLink.innerHTML = docLinkHtml;\n",
              "        element.appendChild(docLink);\n",
              "      }\n",
              "    </script>\n",
              "  </div>\n",
              "\n",
              "\n",
              "<div id=\"df-1a892ce1-faf8-437d-9c75-8f236be86d9e\">\n",
              "  <button class=\"colab-df-quickchart\" onclick=\"quickchart('df-1a892ce1-faf8-437d-9c75-8f236be86d9e')\"\n",
              "            title=\"Suggest charts\"\n",
              "            style=\"display:none;\">\n",
              "\n",
              "<svg xmlns=\"http://www.w3.org/2000/svg\" height=\"24px\"viewBox=\"0 0 24 24\"\n",
              "     width=\"24px\">\n",
              "    <g>\n",
              "        <path d=\"M19 3H5c-1.1 0-2 .9-2 2v14c0 1.1.9 2 2 2h14c1.1 0 2-.9 2-2V5c0-1.1-.9-2-2-2zM9 17H7v-7h2v7zm4 0h-2V7h2v10zm4 0h-2v-4h2v4z\"/>\n",
              "    </g>\n",
              "</svg>\n",
              "  </button>\n",
              "\n",
              "<style>\n",
              "  .colab-df-quickchart {\n",
              "      --bg-color: #E8F0FE;\n",
              "      --fill-color: #1967D2;\n",
              "      --hover-bg-color: #E2EBFA;\n",
              "      --hover-fill-color: #174EA6;\n",
              "      --disabled-fill-color: #AAA;\n",
              "      --disabled-bg-color: #DDD;\n",
              "  }\n",
              "\n",
              "  [theme=dark] .colab-df-quickchart {\n",
              "      --bg-color: #3B4455;\n",
              "      --fill-color: #D2E3FC;\n",
              "      --hover-bg-color: #434B5C;\n",
              "      --hover-fill-color: #FFFFFF;\n",
              "      --disabled-bg-color: #3B4455;\n",
              "      --disabled-fill-color: #666;\n",
              "  }\n",
              "\n",
              "  .colab-df-quickchart {\n",
              "    background-color: var(--bg-color);\n",
              "    border: none;\n",
              "    border-radius: 50%;\n",
              "    cursor: pointer;\n",
              "    display: none;\n",
              "    fill: var(--fill-color);\n",
              "    height: 32px;\n",
              "    padding: 0;\n",
              "    width: 32px;\n",
              "  }\n",
              "\n",
              "  .colab-df-quickchart:hover {\n",
              "    background-color: var(--hover-bg-color);\n",
              "    box-shadow: 0 1px 2px rgba(60, 64, 67, 0.3), 0 1px 3px 1px rgba(60, 64, 67, 0.15);\n",
              "    fill: var(--button-hover-fill-color);\n",
              "  }\n",
              "\n",
              "  .colab-df-quickchart-complete:disabled,\n",
              "  .colab-df-quickchart-complete:disabled:hover {\n",
              "    background-color: var(--disabled-bg-color);\n",
              "    fill: var(--disabled-fill-color);\n",
              "    box-shadow: none;\n",
              "  }\n",
              "\n",
              "  .colab-df-spinner {\n",
              "    border: 2px solid var(--fill-color);\n",
              "    border-color: transparent;\n",
              "    border-bottom-color: var(--fill-color);\n",
              "    animation:\n",
              "      spin 1s steps(1) infinite;\n",
              "  }\n",
              "\n",
              "  @keyframes spin {\n",
              "    0% {\n",
              "      border-color: transparent;\n",
              "      border-bottom-color: var(--fill-color);\n",
              "      border-left-color: var(--fill-color);\n",
              "    }\n",
              "    20% {\n",
              "      border-color: transparent;\n",
              "      border-left-color: var(--fill-color);\n",
              "      border-top-color: var(--fill-color);\n",
              "    }\n",
              "    30% {\n",
              "      border-color: transparent;\n",
              "      border-left-color: var(--fill-color);\n",
              "      border-top-color: var(--fill-color);\n",
              "      border-right-color: var(--fill-color);\n",
              "    }\n",
              "    40% {\n",
              "      border-color: transparent;\n",
              "      border-right-color: var(--fill-color);\n",
              "      border-top-color: var(--fill-color);\n",
              "    }\n",
              "    60% {\n",
              "      border-color: transparent;\n",
              "      border-right-color: var(--fill-color);\n",
              "    }\n",
              "    80% {\n",
              "      border-color: transparent;\n",
              "      border-right-color: var(--fill-color);\n",
              "      border-bottom-color: var(--fill-color);\n",
              "    }\n",
              "    90% {\n",
              "      border-color: transparent;\n",
              "      border-bottom-color: var(--fill-color);\n",
              "    }\n",
              "  }\n",
              "</style>\n",
              "\n",
              "  <script>\n",
              "    async function quickchart(key) {\n",
              "      const quickchartButtonEl =\n",
              "        document.querySelector('#' + key + ' button');\n",
              "      quickchartButtonEl.disabled = true;  // To prevent multiple clicks.\n",
              "      quickchartButtonEl.classList.add('colab-df-spinner');\n",
              "      try {\n",
              "        const charts = await google.colab.kernel.invokeFunction(\n",
              "            'suggestCharts', [key], {});\n",
              "      } catch (error) {\n",
              "        console.error('Error during call to suggestCharts:', error);\n",
              "      }\n",
              "      quickchartButtonEl.classList.remove('colab-df-spinner');\n",
              "      quickchartButtonEl.classList.add('colab-df-quickchart-complete');\n",
              "    }\n",
              "    (() => {\n",
              "      let quickchartButtonEl =\n",
              "        document.querySelector('#df-1a892ce1-faf8-437d-9c75-8f236be86d9e button');\n",
              "      quickchartButtonEl.style.display =\n",
              "        google.colab.kernel.accessAllowed ? 'block' : 'none';\n",
              "    })();\n",
              "  </script>\n",
              "</div>\n",
              "\n",
              "    </div>\n",
              "  </div>\n"
            ],
            "application/vnd.google.colaboratory.intrinsic+json": {
              "type": "dataframe",
              "summary": "{\n  \"name\": \"display(df\",\n  \"rows\": 5,\n  \"fields\": [\n    {\n      \"column\": \"summary\",\n      \"properties\": {\n        \"dtype\": \"string\",\n        \"num_unique_values\": 5,\n        \"samples\": [\n          \"mean\",\n          \"max\",\n          \"stddev\"\n        ],\n        \"semantic_type\": \"\",\n        \"description\": \"\"\n      }\n    },\n    {\n      \"column\": \"InvoiceNo\",\n      \"properties\": {\n        \"dtype\": \"string\",\n        \"num_unique_values\": 5,\n        \"samples\": [\n          \"560616.9344507444\",\n          \"581587\",\n          \"13106.117772962025\"\n        ],\n        \"semantic_type\": \"\",\n        \"description\": \"\"\n      }\n    },\n    {\n      \"column\": \"StockCode\",\n      \"properties\": {\n        \"dtype\": \"string\",\n        \"num_unique_values\": 5,\n        \"samples\": [\n          \"27420.411850034085\",\n          \"POST\",\n          \"16391.025997723667\"\n        ],\n        \"semantic_type\": \"\",\n        \"description\": \"\"\n      }\n    },\n    {\n      \"column\": \"Description\",\n      \"properties\": {\n        \"dtype\": \"string\",\n        \"num_unique_values\": 3,\n        \"samples\": [\n          \"397884\",\n          \" 4 PURPLE FLOCK DINNER CANDLES\",\n          \"ZINC WIRE SWEETHEART LETTER TRAY\"\n        ],\n        \"semantic_type\": \"\",\n        \"description\": \"\"\n      }\n    },\n    {\n      \"column\": \"Quantity\",\n      \"properties\": {\n        \"dtype\": \"string\",\n        \"num_unique_values\": 5,\n        \"samples\": [\n          \"12.988237777844798\",\n          \"80995\",\n          \"179.33177496319982\"\n        ],\n        \"semantic_type\": \"\",\n        \"description\": \"\"\n      }\n    },\n    {\n      \"column\": \"UnitPrice\",\n      \"properties\": {\n        \"dtype\": \"string\",\n        \"num_unique_values\": 5,\n        \"samples\": [\n          \"3.1164877552256525\",\n          \"8142.75\",\n          \"22.09787663086808\"\n        ],\n        \"semantic_type\": \"\",\n        \"description\": \"\"\n      }\n    },\n    {\n      \"column\": \"CustomerID\",\n      \"properties\": {\n        \"dtype\": \"string\",\n        \"num_unique_values\": 5,\n        \"samples\": [\n          \"15294.423452564064\",\n          \"18287.0\",\n          \"1713.1415604398514\"\n        ],\n        \"semantic_type\": \"\",\n        \"description\": \"\"\n      }\n    },\n    {\n      \"column\": \"Country\",\n      \"properties\": {\n        \"dtype\": \"string\",\n        \"num_unique_values\": 3,\n        \"samples\": [\n          \"397884\",\n          \"Australia\",\n          \"Unspecified\"\n        ],\n        \"semantic_type\": \"\",\n        \"description\": \"\"\n      }\n    },\n    {\n      \"column\": \"TotalPrice\",\n      \"properties\": {\n        \"dtype\": \"string\",\n        \"num_unique_values\": 5,\n        \"samples\": [\n          \"22.396999889417703\",\n          \"168469.6\",\n          \"309.0710414140181\"\n        ],\n        \"semantic_type\": \"\",\n        \"description\": \"\"\n      }\n    }\n  ]\n}"
            }
          },
          "metadata": {}
        }
      ]
    },
    {
      "cell_type": "code",
      "source": [
        "# Top 10 countries by total revenue\n",
        "df.groupBy(\"Country\").sum(\"TotalPrice\").orderBy(\"sum(TotalPrice)\", ascending=False).show(10)\n",
        "\n",
        "# Most sold items\n",
        "df.groupBy(\"Description\").sum(\"Quantity\").orderBy(\"sum(Quantity)\", ascending=False).show(10)\n",
        "\n",
        "# Monthly revenue trends\n",
        "from pyspark.sql.functions import month, year\n",
        "\n",
        "df = df.withColumn(\"InvoiceMonth\", month(\"InvoiceDate\")).withColumn(\"InvoiceYear\", year(\"InvoiceDate\"))\n",
        "df.groupBy(\"InvoiceYear\", \"InvoiceMonth\").sum(\"TotalPrice\").orderBy(\"InvoiceYear\", \"InvoiceMonth\").show()\n"
      ],
      "metadata": {
        "colab": {
          "base_uri": "https://localhost:8080/"
        },
        "id": "lpAmpRlTyjnr",
        "outputId": "92965858-cc47-4add-906f-98f54e173304"
      },
      "execution_count": 13,
      "outputs": [
        {
          "output_type": "stream",
          "name": "stdout",
          "text": [
            "+--------------+------------------+\n",
            "|       Country|   sum(TotalPrice)|\n",
            "+--------------+------------------+\n",
            "|United Kingdom| 7308391.554000224|\n",
            "|   Netherlands| 285446.3399999992|\n",
            "|          EIRE|265545.89999999915|\n",
            "|       Germany|228867.14000000025|\n",
            "|        France|209024.05000000025|\n",
            "|     Australia|138521.30999999976|\n",
            "|         Spain| 61577.11000000017|\n",
            "|   Switzerland| 56443.95000000007|\n",
            "|       Belgium| 41196.34000000001|\n",
            "|        Sweden| 38378.32999999999|\n",
            "+--------------+------------------+\n",
            "only showing top 10 rows\n",
            "\n",
            "+--------------------+-------------+\n",
            "|         Description|sum(Quantity)|\n",
            "+--------------------+-------------+\n",
            "|PAPER CRAFT , LIT...|        80995|\n",
            "|MEDIUM CERAMIC TO...|        77916|\n",
            "|WORLD WAR 2 GLIDE...|        54415|\n",
            "|JUMBO BAG RED RET...|        46181|\n",
            "|WHITE HANGING HEA...|        36725|\n",
            "|ASSORTED COLOUR B...|        35362|\n",
            "|PACK OF 72 RETROS...|        33693|\n",
            "|      POPCORN HOLDER|        30931|\n",
            "|  RABBIT NIGHT LIGHT|        27202|\n",
            "|MINI PAINT SET VI...|        26076|\n",
            "+--------------------+-------------+\n",
            "only showing top 10 rows\n",
            "\n",
            "+-----------+------------+------------------+\n",
            "|InvoiceYear|InvoiceMonth|   sum(TotalPrice)|\n",
            "+-----------+------------+------------------+\n",
            "|       2010|          12| 572713.8900000163|\n",
            "|       2011|           1| 569445.0400000077|\n",
            "|       2011|           2| 447137.3500000165|\n",
            "|       2011|           3|  595500.760000013|\n",
            "|       2011|           4| 469200.3610000132|\n",
            "|       2011|           5| 678594.5600000018|\n",
            "|       2011|           6| 661213.6900000116|\n",
            "|       2011|           7| 600091.0110000141|\n",
            "|       2011|           8| 645343.9000000068|\n",
            "|       2011|           9| 952838.3819999964|\n",
            "|       2011|          10|1039318.7899999822|\n",
            "|       2011|          11|1161817.3799999433|\n",
            "|       2011|          12| 518192.7900000037|\n",
            "+-----------+------------+------------------+\n",
            "\n"
          ]
        }
      ]
    },
    {
      "cell_type": "code",
      "source": [
        "# Example: customer-level aggregation\n",
        "customer_df = df.groupBy(\"CustomerID\").agg(\n",
        "    {\"TotalPrice\": \"sum\", \"InvoiceNo\": \"count\"}\n",
        ").withColumnRenamed(\"sum(TotalPrice)\", \"TotalSpend\").withColumnRenamed(\"count(InvoiceNo)\", \"NumPurchases\")\n",
        "\n",
        "customer_df.show(5)\n"
      ],
      "metadata": {
        "colab": {
          "base_uri": "https://localhost:8080/"
        },
        "id": "w3sQ_OsByzMe",
        "outputId": "e9ec7a13-f641-493d-a093-95c0a7621b17"
      },
      "execution_count": 14,
      "outputs": [
        {
          "output_type": "stream",
          "name": "stdout",
          "text": [
            "+----------+------------------+------------+\n",
            "|CustomerID|        TotalSpend|NumPurchases|\n",
            "+----------+------------------+------------+\n",
            "|   16916.0| 576.2599999999999|         143|\n",
            "|   17884.0| 717.4499999999998|         117|\n",
            "|   13094.0|1927.3200000000002|          24|\n",
            "|   16596.0|            250.15|          12|\n",
            "|   18114.0|             220.1|          28|\n",
            "+----------+------------------+------------+\n",
            "only showing top 5 rows\n",
            "\n"
          ]
        }
      ]
    },
    {
      "cell_type": "code",
      "source": [
        "from pyspark.sql.functions import col, max, datediff\n",
        "\n",
        "# Get the latest date in the dataset\n",
        "max_date = df.select(max(\"InvoiceDate\")).first()[0]\n",
        "\n",
        "# Compute recency for each customer\n",
        "recency_df = df.groupBy(\"CustomerID\").agg(\n",
        "    max(\"InvoiceDate\").alias(\"LastPurchaseDate\")\n",
        ").withColumn(\n",
        "    \"Recency\", datediff(lit(max_date), col(\"LastPurchaseDate\"))\n",
        ")\n",
        "\n",
        "# Merge with total spend & purchases\n",
        "rfm_df = customer_df.join(recency_df, on=\"CustomerID\")\n"
      ],
      "metadata": {
        "id": "l9MIPdCqy7L3"
      },
      "execution_count": 16,
      "outputs": []
    },
    {
      "cell_type": "code",
      "source": [
        "from pyspark.ml.feature import VectorAssembler\n",
        "\n",
        "assembler = VectorAssembler(\n",
        "    inputCols=[\"TotalSpend\", \"NumPurchases\", \"Recency\"],\n",
        "    outputCol=\"features\"\n",
        ")\n",
        "\n",
        "rfm_vector = assembler.transform(rfm_df)\n"
      ],
      "metadata": {
        "id": "Th-dYBhnzC_Z"
      },
      "execution_count": 17,
      "outputs": []
    },
    {
      "cell_type": "code",
      "source": [
        "from pyspark.ml.clustering import KMeans\n",
        "\n",
        "kmeans = KMeans(k=4, seed=1, featuresCol=\"features\", predictionCol=\"cluster\")\n",
        "model = kmeans.fit(rfm_vector)\n",
        "clusters = model.transform(rfm_vector)\n"
      ],
      "metadata": {
        "id": "F77xuz_JzWld"
      },
      "execution_count": 18,
      "outputs": []
    },
    {
      "cell_type": "code",
      "source": [
        "clusters.groupBy(\"cluster\").agg(\n",
        "    {\"TotalSpend\": \"avg\", \"NumPurchases\": \"avg\", \"Recency\": \"avg\", \"*\": \"count\"}\n",
        ").show()\n"
      ],
      "metadata": {
        "colab": {
          "base_uri": "https://localhost:8080/"
        },
        "id": "XS0nC5-7zYl2",
        "outputId": "09668b06-e067-4af1-a010-77a6f62e3268"
      },
      "execution_count": 19,
      "outputs": [
        {
          "output_type": "stream",
          "name": "stdout",
          "text": [
            "+-------+------------------+------------------+-----------------+--------+\n",
            "|cluster|   avg(TotalSpend)|      avg(Recency)|avg(NumPurchases)|count(1)|\n",
            "+-------+------------------+------------------+-----------------+--------+\n",
            "|      1| 269931.6599999997|               0.5|           1253.5|       2|\n",
            "|      3| 46393.01387096775|30.032258064516128|993.1612903225806|      31|\n",
            "|      2|149828.50199999992|               8.4|           1625.8|       5|\n",
            "|      0|1438.1903823255827| 92.64651162790697|82.89767441860465|    4300|\n",
            "+-------+------------------+------------------+-----------------+--------+\n",
            "\n"
          ]
        }
      ]
    },
    {
      "cell_type": "markdown",
      "source": [
        " High-value & active — Only 2 customers, but they spend huge amounts and buy very frequently. Super loyal.\n",
        "\n",
        " Big spenders — A bit less recent than Cluster 1, but still very active and profitable. Great targets for loyalty rewards.\n",
        "\n",
        " Mid-tier regulars — Moderate spenders and fairly recent. They form a good base for upselling/cross-selling.\n",
        "\n",
        " Low-value or inactive — Large chunk (4300 customers), but low spending, low frequency, and high recency (i.e., haven't shopped in a while). Might be churned or casual shoppers."
      ],
      "metadata": {
        "id": "1OKhfb8l0dNB"
      }
    },
    {
      "cell_type": "markdown",
      "source": [
        "**EDA**"
      ],
      "metadata": {
        "id": "WzvKcxdW2fUr"
      }
    },
    {
      "cell_type": "code",
      "source": [
        "from pyspark.sql.functions import datediff, max as spark_max\n",
        "\n",
        "# 1. Get latest invoice date\n",
        "latest_date = df.select(spark_max(\"InvoiceDate\")).collect()[0][0]\n",
        "\n",
        "# 2. Calculate Recency for each customer\n",
        "from pyspark.sql.functions import col\n",
        "recency_df = df.groupBy(\"CustomerID\").agg(spark_max(\"InvoiceDate\").alias(\"LastPurchaseDate\"))\n",
        "recency_df = recency_df.withColumn(\"Recency\", datediff(lit(latest_date), col(\"LastPurchaseDate\")))\n",
        "\n",
        "# 3. Merge with customer_df\n",
        "customer_df = customer_df.join(recency_df.select(\"CustomerID\", \"Recency\"), on=\"CustomerID\", how=\"inner\")\n"
      ],
      "metadata": {
        "id": "fdjCA3_E1NGM"
      },
      "execution_count": 22,
      "outputs": []
    },
    {
      "cell_type": "code",
      "source": [
        "from pyspark.sql.functions import col, max as spark_max, count, sum as spark_sum, lit as spark_lit, datediff\n",
        "from pyspark.ml.feature import VectorAssembler, StandardScaler, PCA\n",
        "from pyspark.ml.clustering import KMeans\n",
        "import pandas as pd\n",
        "import seaborn as sns\n",
        "import matplotlib.pyplot as plt\n",
        "\n",
        "# Ensure TotalPrice column exists\n",
        "df = df.withColumn(\"TotalPrice\", col(\"Quantity\") * col(\"UnitPrice\"))\n",
        "\n",
        "# Step 1: Calculate RFM features\n",
        "max_date = df.select(spark_max(\"InvoiceDate\")).collect()[0][0]\n",
        "\n",
        "rfm_df = df.groupBy(\"CustomerID\").agg(\n",
        "    spark_sum(\"TotalPrice\").alias(\"TotalSpend\"),\n",
        "    count(\"InvoiceNo\").alias(\"NumPurchases\"),\n",
        "    spark_max(\"InvoiceDate\").alias(\"LastPurchaseDate\")\n",
        ").withColumn(\n",
        "    \"Recency\", datediff(spark_lit(max_date), col(\"LastPurchaseDate\"))\n",
        ").select(\"CustomerID\", \"TotalSpend\", \"NumPurchases\", \"Recency\")\n",
        "\n",
        "# Step 2: VectorAssembler\n",
        "assembler = VectorAssembler(inputCols=[\"Recency\", \"NumPurchases\", \"TotalSpend\"], outputCol=\"features\")\n",
        "rfm_features = assembler.transform(rfm_df)\n",
        "\n",
        "# Step 3: Standardize features\n",
        "scaler = StandardScaler(inputCol=\"features\", outputCol=\"scaledFeatures\", withStd=True, withMean=True)\n",
        "scaled_data = scaler.fit(rfm_features).transform(rfm_features)\n",
        "\n",
        "# Step 4: KMeans Clustering\n",
        "kmeans = KMeans(featuresCol=\"scaledFeatures\", k=4, seed=42)\n",
        "model = kmeans.fit(scaled_data)\n",
        "clustered = model.transform(scaled_data)\n",
        "\n",
        "# Step 5: PCA for dimensionality reduction\n",
        "pca = PCA(k=2, inputCol=\"scaledFeatures\", outputCol=\"pcaFeatures\")\n",
        "pca_model = pca.fit(clustered)\n",
        "pca_result = pca_model.transform(clustered)\n",
        "\n",
        "# Step 6: Join with cluster info\n",
        "customer_clusters = clustered.select(\"CustomerID\", \"prediction\").withColumnRenamed(\"prediction\", \"cluster\")\n",
        "final_df = pca_result.join(customer_clusters, on=\"CustomerID\", how=\"inner\")\n",
        "\n",
        "# Step 7: Convert to Pandas and prepare for visualization\n",
        "pandas_df = final_df.select(\"pcaFeatures\", \"cluster\").toPandas()\n",
        "pandas_df[['pca1', 'pca2']] = pandas_df['pcaFeatures'].apply(lambda x: pd.Series(x.toArray()))\n",
        "\n",
        "# Step 8: Plotting\n",
        "plt.figure(figsize=(10, 6))\n",
        "sns.scatterplot(data=pandas_df, x='pca1', y='pca2', hue='cluster', palette='Set2', s=60)\n",
        "plt.title('Customer Segments via PCA')\n",
        "plt.xlabel('PCA Component 1')\n",
        "plt.ylabel('PCA Component 2')\n",
        "plt.legend(title='Cluster')\n",
        "plt.grid(True)\n",
        "plt.show()\n"
      ],
      "metadata": {
        "colab": {
          "base_uri": "https://localhost:8080/",
          "height": 564
        },
        "id": "HUDvUD9U0hAY",
        "outputId": "b3842b32-8db5-446a-920e-4fb72cb0e810"
      },
      "execution_count": 25,
      "outputs": [
        {
          "output_type": "display_data",
          "data": {
            "text/plain": [
              "<Figure size 1000x600 with 1 Axes>"
            ],
            "image/png": "[encoded data removed]"
          },
          "metadata": {}
        }
      ]
    },
    {
      "cell_type": "code",
      "source": [
        "# Rejoin the cluster predictions with the original RFM features\n",
        "clustered_df = customer_df.join(customer_clusters, on=\"CustomerID\", how=\"inner\")\n",
        "\n",
        "# Now perform cluster profiling\n",
        "from pyspark.sql import functions as F\n",
        "\n",
        "clustered_df.groupBy(\"cluster\").agg(\n",
        "    F.avg(\"TotalSpend\").alias(\"AvgSpend\"),\n",
        "    F.avg(\"NumPurchases\").alias(\"AvgPurchases\"),\n",
        "    F.avg(\"Recency\").alias(\"AvgRecency\"),\n",
        "    F.count(\"*\").alias(\"NumCustomers\")\n",
        ").orderBy(\"cluster\").show()\n"
      ],
      "metadata": {
        "colab": {
          "base_uri": "https://localhost:8080/"
        },
        "id": "cRwjlkrP0u5O",
        "outputId": "2669f776-46cb-4b6b-8090-8245ad5ce093"
      },
      "execution_count": 27,
      "outputs": [
        {
          "output_type": "stream",
          "name": "stdout",
          "text": [
            "+-------+------------------+------------------+------------------+------------+\n",
            "|cluster|          AvgSpend|      AvgPurchases|        AvgRecency|NumCustomers|\n",
            "+-------+------------------+------------------+------------------+------------+\n",
            "|      0| 2070.911963339495|103.09519408502773| 40.89525569932224|        3246|\n",
            "|      1| 636.5011120370376|27.749074074074073| 246.8138888888889|        1080|\n",
            "|      2|59437.616666666676| 4717.833333333333|1.1666666666666667|           6|\n",
            "|      3|190863.46166666652| 826.8333333333334|               7.0|           6|\n",
            "+-------+------------------+------------------+------------------+------------+\n",
            "\n"
          ]
        }
      ]
    },
    {
      "cell_type": "code",
      "source": [
        "import pandas as pd\n",
        "import seaborn as sns\n",
        "import matplotlib.pyplot as plt\n",
        "\n",
        "# Convert to Pandas for plotting\n",
        "cluster_summary = clustered_df.groupBy(\"cluster\").agg(\n",
        "    F.avg(\"TotalSpend\").alias(\"AvgSpend\"),\n",
        "    F.avg(\"NumPurchases\").alias(\"AvgPurchases\"),\n",
        "    F.avg(\"Recency\").alias(\"AvgRecency\"),\n",
        "    F.count(\"*\").alias(\"NumCustomers\")\n",
        ").orderBy(\"cluster\").toPandas()\n",
        "\n",
        "# Plotting\n",
        "fig, axs = plt.subplots(1, 3, figsize=(18, 5))\n",
        "\n",
        "sns.barplot(x='cluster', y='AvgSpend', data=cluster_summary, ax=axs[0])\n",
        "axs[0].set_title('Average Spend by Cluster')\n",
        "\n",
        "sns.barplot(x='cluster', y='AvgPurchases', data=cluster_summary, ax=axs[1])\n",
        "axs[1].set_title('Average Purchases by Cluster')\n",
        "\n",
        "sns.barplot(x='cluster', y='AvgRecency', data=cluster_summary, ax=axs[2])\n",
        "axs[2].set_title('Average Recency by Cluster')\n",
        "\n",
        "plt.tight_layout()\n",
        "plt.show()\n"
      ],
      "metadata": {
        "colab": {
          "base_uri": "https://localhost:8080/",
          "height": 426
        },
        "id": "27wsP1BB2kAT",
        "outputId": "4fa50aff-46f0-40d5-d248-78e68711b028"
      },
      "execution_count": 28,
      "outputs": [
        {
          "output_type": "display_data",
          "data": {
            "text/plain": [
              "<Figure size 1800x500 with 3 Axes>"
            ],
            "image/png": "[encoded data removed]"
          },
          "metadata": {}
        }
      ]
    },
    {
      "cell_type": "markdown",
      "source": [
        "1. Cluster 0 (Low Spend, Moderate Recency & Frequency)\n",
        "Spend: Very low\n",
        "\n",
        "Purchases: Low-moderate\n",
        "\n",
        "Recency: Moderate (~40 days)\n",
        "\n",
        "Insight: These are regular but low-value customers. Possibly budget-conscious or casual buyers.\n",
        "\n",
        "2. Cluster 1 (Low-Value Dormant Customers)\n",
        "Spend: Very low\n",
        "\n",
        "Purchases: Lowest\n",
        "\n",
        "Recency: Extremely high (~250)\n",
        "\n",
        "Insight: Cold/inactive users. Haven’t interacted recently, may need reactivation campaigns.\n",
        "\n",
        "3. Cluster 2 (High-Volume Power Buyers)\n",
        "Spend: High\n",
        "\n",
        "Purchases: Extremely high (~4700)\n",
        "\n",
        "Recency: Extremely low\n",
        "\n",
        "Insight: Super loyal and highly engaged customers — your gold tier. Retention here is key.\n",
        "\n",
        "4. Cluster 3 (High-Spenders, Fewer Transactions)\n",
        "Spend: Highest\n",
        "\n",
        "Purchases: Moderate\n",
        "\n",
        "Recency: Low (~7)\n",
        "\n",
        "Insight: Likely bulk buyers or premium shoppers. They buy infrequently, but when they do, it’s huge.\n",
        "\n"
      ],
      "metadata": {
        "id": "FpM6XC583hA2"
      }
    },
    {
      "cell_type": "code",
      "source": [
        "from pyspark.sql.functions import when\n",
        "\n",
        "clustered_df = clustered_df.withColumn(\"Segment\", when(F.col(\"cluster\") == 0, \"Regular Low-Spend\") \\\n",
        "                                                  .when(F.col(\"cluster\") == 1, \"Dormant\") \\\n",
        "                                                  .when(F.col(\"cluster\") == 2, \"Power Users\") \\\n",
        "                                                  .when(F.col(\"cluster\") == 3, \"High Spenders\"))\n"
      ],
      "metadata": {
        "id": "Ygek_fhZ3hm1"
      },
      "execution_count": 29,
      "outputs": []
    },
    {
      "cell_type": "markdown",
      "source": [
        "**ML**"
      ],
      "metadata": {
        "id": "2YhjsgRB36kt"
      }
    },
    {
      "cell_type": "markdown",
      "source": [
        "Type: Multiclass Classification\n",
        "\n",
        "Goal: Predict customer segments (cluster) based on behavioral features: TotalSpend, NumPurchases, and Recency."
      ],
      "metadata": {
        "id": "BI8KXBab9V0_"
      }
    },
    {
      "cell_type": "code",
      "source": [
        "from pyspark.ml.feature import StringIndexer\n",
        "\n",
        "# Make sure label column is indexed properly\n",
        "indexer = StringIndexer(inputCol=\"cluster\", outputCol=\"label\")\n",
        "labeled_data = indexer.fit(customer_clusters).transform(customer_clusters)\n"
      ],
      "metadata": {
        "id": "GzkXiLuA3leE"
      },
      "execution_count": 30,
      "outputs": []
    },
    {
      "cell_type": "code",
      "source": [
        "# Join clustered labels with the original RFM data\n",
        "labeled_data = customer_df.join(clustered_df.select(\"CustomerID\", \"cluster\", \"Segment\"), on=\"CustomerID\", how=\"inner\")\n"
      ],
      "metadata": {
        "id": "F3E9BVRE39ae"
      },
      "execution_count": 32,
      "outputs": []
    },
    {
      "cell_type": "markdown",
      "source": [
        " Spark ML **Pipeline**"
      ],
      "metadata": {
        "id": "eHKJkK3L9eWm"
      }
    },
    {
      "cell_type": "code",
      "source": [
        "from pyspark.ml.feature import VectorAssembler\n",
        "\n",
        "assembler = VectorAssembler(\n",
        "    inputCols=[\"TotalSpend\", \"NumPurchases\", \"Recency\"],\n",
        "    outputCol=\"features\"\n",
        ")\n",
        "\n",
        "assembled_data = assembler.transform(labeled_data)\n",
        "assembled_data.select(\"features\", \"cluster\", \"Segment\").show(5, truncate=False)\n"
      ],
      "metadata": {
        "colab": {
          "base_uri": "https://localhost:8080/"
        },
        "id": "7lYAqF5d3_H-",
        "outputId": "4aad3a73-0a16-42a8-dd47-101866673266"
      },
      "execution_count": 33,
      "outputs": [
        {
          "output_type": "stream",
          "name": "stdout",
          "text": [
            "+------------------------------+-------+-----------------+\n",
            "|features                      |cluster|Segment          |\n",
            "+------------------------------+-------+-----------------+\n",
            "|[576.2599999999999,143.0,23.0]|0      |Regular Low-Spend|\n",
            "|[717.4499999999998,117.0,3.0] |0      |Regular Low-Spend|\n",
            "|[1927.3200000000002,24.0,21.0]|0      |Regular Low-Spend|\n",
            "|[250.15,12.0,15.0]            |0      |Regular Low-Spend|\n",
            "|[220.1,28.0,290.0]            |1      |Dormant          |\n",
            "+------------------------------+-------+-----------------+\n",
            "only showing top 5 rows\n",
            "\n"
          ]
        }
      ]
    },
    {
      "cell_type": "code",
      "source": [
        "from pyspark.ml.feature import StringIndexer\n",
        "\n",
        "indexer = StringIndexer(inputCol=\"Segment\", outputCol=\"label\")\n",
        "labeled_data = indexer.fit(assembled_data).transform(assembled_data)\n"
      ],
      "metadata": {
        "id": "be6TqsYA4jvQ"
      },
      "execution_count": 34,
      "outputs": []
    },
    {
      "cell_type": "code",
      "source": [
        "final_data = assembled_data.withColumnRenamed(\"cluster\", \"label\")\n"
      ],
      "metadata": {
        "id": "V2NC_8EC5O7_"
      },
      "execution_count": 35,
      "outputs": []
    },
    {
      "cell_type": "code",
      "source": [
        "train_data, test_data = final_data.randomSplit([0.8, 0.2], seed=42)\n"
      ],
      "metadata": {
        "id": "q_0hXuvx5Tz_"
      },
      "execution_count": 36,
      "outputs": []
    },
    {
      "cell_type": "code",
      "source": [
        "from pyspark.ml.classification import DecisionTreeClassifier\n",
        "\n",
        "dt = DecisionTreeClassifier(labelCol=\"label\", featuresCol=\"features\")\n",
        "model = dt.fit(train_data)\n"
      ],
      "metadata": {
        "id": "T6rHajec5V_l"
      },
      "execution_count": 37,
      "outputs": []
    },
    {
      "cell_type": "code",
      "source": [
        "from pyspark.ml.evaluation import MulticlassClassificationEvaluator\n",
        "\n",
        "predictions = model.transform(test_data)\n",
        "\n",
        "evaluator = MulticlassClassificationEvaluator(labelCol=\"label\", predictionCol=\"prediction\", metricName=\"accuracy\")\n",
        "accuracy = evaluator.evaluate(predictions)\n",
        "\n",
        "print(f\"Test Accuracy: {accuracy:.4f}\")\n"
      ],
      "metadata": {
        "colab": {
          "base_uri": "https://localhost:8080/"
        },
        "id": "Kx9kg-IJ5Xpf",
        "outputId": "b9bf8e6c-d23e-4d28-8df1-5a2cee411eb7"
      },
      "execution_count": 38,
      "outputs": [
        {
          "output_type": "stream",
          "name": "stdout",
          "text": [
            "Test Accuracy: 0.9951\n"
          ]
        }
      ]
    },
    {
      "cell_type": "code",
      "source": [
        "predictions.groupBy(\"label\", \"prediction\").count().show()\n"
      ],
      "metadata": {
        "colab": {
          "base_uri": "https://localhost:8080/"
        },
        "id": "PWEXtJHw5cyF",
        "outputId": "8fb83ae0-3289-417a-da22-d767cde42ce2"
      },
      "execution_count": 39,
      "outputs": [
        {
          "output_type": "stream",
          "name": "stdout",
          "text": [
            "+-----+----------+-----+\n",
            "|label|prediction|count|\n",
            "+-----+----------+-----+\n",
            "|    1|       0.0|    2|\n",
            "|    0|       0.0|  621|\n",
            "|    1|       1.0|  196|\n",
            "|    3|       0.0|    1|\n",
            "|    0|       1.0|    1|\n",
            "+-----+----------+-----+\n",
            "\n"
          ]
        }
      ]
    },
    {
      "cell_type": "code",
      "source": [
        "import pandas as pd\n",
        "import seaborn as sns\n",
        "import matplotlib.pyplot as plt\n",
        "\n",
        "# Convert to pandas\n",
        "pdf = predictions.select(\"label\", \"prediction\").toPandas()\n",
        "\n",
        "# Confusion matrix heatmap\n",
        "conf_matrix = pd.crosstab(pdf['label'], pdf['prediction'], rownames=['Actual'], colnames=['Predicted'])\n",
        "sns.heatmap(conf_matrix, annot=True, fmt='d', cmap=\"YlGnBu\")\n",
        "plt.title(\"Confusion Matrix\")\n",
        "plt.show()\n"
      ],
      "metadata": {
        "colab": {
          "base_uri": "https://localhost:8080/",
          "height": 472
        },
        "id": "RUCx7fBC6vta",
        "outputId": "24f2cef4-f025-42a8-8a0b-d31c1edf2169"
      },
      "execution_count": 40,
      "outputs": [
        {
          "output_type": "display_data",
          "data": {
            "text/plain": [
              "<Figure size 640x480 with 2 Axes>"
            ],
            "image/png": "[encoded data removed]"
          },
          "metadata": {}
        }
      ]
    },
    {
      "cell_type": "markdown",
      "source": [
        "Cluster 0 and 1 are extremely well classified.\n",
        "\n",
        "Only one sample from cluster 3 is present, and it was misclassified — probably due to class imbalance (cluster 3 might be underrepresented).\n",
        "\n",
        "No instances of cluster 2 appeared in your test set or confusion matrix — likely because it's very rare (as we saw in EDA: only 6 users in that cluster).\n"
      ],
      "metadata": {
        "id": "ppgxzd608ogM"
      }
    },
    {
      "cell_type": "code",
      "source": [
        "from pyspark.ml.classification import LogisticRegression\n",
        "from pyspark.ml.evaluation import MulticlassClassificationEvaluator\n",
        "from pyspark.ml.tuning import ParamGridBuilder, CrossValidator\n",
        "from pyspark.ml import Pipeline\n",
        "\n",
        "# Step 1: Define your model\n",
        "lr = LogisticRegression(featuresCol=\"features\", labelCol=\"label\")\n",
        "\n",
        "# Step 2: Build your ML Pipeline (if you have additional stages, add them here)\n",
        "pipeline = Pipeline(stages=[lr])\n",
        "\n",
        "# Step 3: Define evaluator (we'll use accuracy here)\n",
        "evaluator = MulticlassClassificationEvaluator(labelCol=\"label\", predictionCol=\"prediction\", metricName=\"accuracy\")\n",
        "\n",
        "# Step 4: Define hyperparameter grid\n",
        "paramGrid = ParamGridBuilder() \\\n",
        "    .addGrid(lr.regParam, [0.01, 0.1, 1.0]) \\\n",
        "    .addGrid(lr.elasticNetParam, [0.0, 0.5, 1.0]) \\\n",
        "    .build()\n",
        "\n",
        "# Step 5: Define cross-validator\n",
        "cv = CrossValidator(estimator=pipeline,\n",
        "                    estimatorParamMaps=paramGrid,\n",
        "                    evaluator=evaluator,\n",
        "                    numFolds=5,  # 5-fold cross-validation\n",
        "                    parallelism=2)  # Adjust based on available cores\n",
        "\n",
        "# Step 6: Train using cross-validation\n",
        "cv_model = cv.fit(train_data)\n",
        "\n",
        "# Step 7: Evaluate on test data\n",
        "predictions = cv_model.transform(test_data)\n",
        "accuracy = evaluator.evaluate(predictions)\n",
        "\n",
        "print(f\"Best Model Accuracy on Test Data: {accuracy:.4f}\")\n",
        "best_model = cv_model.bestModel.stages[0]\n",
        "print(f\"Best RegParam: {best_model._java_obj.getRegParam()}\")\n",
        "print(f\"Best ElasticNetParam: {best_model._java_obj.getElasticNetParam()}\")\n"
      ],
      "metadata": {
        "colab": {
          "base_uri": "https://localhost:8080/"
        },
        "id": "nOcwKrj99y_5",
        "outputId": "9cc94e79-bd61-4bae-96ed-7153bd6f9950"
      },
      "execution_count": 43,
      "outputs": [
        {
          "output_type": "stream",
          "name": "stdout",
          "text": [
            "Best Model Accuracy on Test Data: 0.9951\n",
            "Best RegParam: 0.01\n",
            "Best ElasticNetParam: 1.0\n"
          ]
        }
      ]
    },
    {
      "cell_type": "code",
      "source": [],
      "metadata": {
        "id": "qxChHf4d99fB"
      },
      "execution_count": null,
      "outputs": []
    }
  ],
  "metadata": {
    "colab": {
      "provenance": []
    },
    "kernelspec": {
      "display_name": "Python 3 (ipykernel)",
      "language": "python",
      "name": "python3"
    },
    "language_info": {
      "codemirror_mode": {
        "name": "ipython",
        "version": 3
      },
      "file_extension": ".py",
      "mimetype": "text/x-python",
      "name": "python",
      "nbconvert_exporter": "python",
      "pygments_lexer": "ipython3",
      "version": "3.11.11"
    }
  },
  "nbformat": 4,
  "nbformat_minor": 0
}